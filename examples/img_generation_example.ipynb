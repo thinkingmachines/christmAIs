{
 "cells": [
  {
   "cell_type": "markdown",
   "metadata": {},
   "source": [
    "# Walkthrough on ChristmAIs API\n",
    "Let's spread some algorithmic cheer throughout the holidays! This time, Thinking Machines Data Science presents you a package, `christmais`, to\n",
    "generate abstract art using the idea of perception engines from [Tom White](https://medium.com/artists-and-machine-intelligence/perception-engines-8a46bc598d57). This notebook serves as a short walkthrough on how to use this API. "
   ]
  },
  {
   "cell_type": "code",
   "execution_count": 1,
   "metadata": {
    "collapsed": true
   },
   "outputs": [],
   "source": [
    "# Ensures that we're using the local version of christmAIs\n",
    "import sys\n",
    "sys.path.append('../')\n",
    "\n",
    "# Some IPython magic to autoreload modules\n",
    "%load_ext autoreload\n",
    "%autoreload 2"
   ]
  },
  {
   "cell_type": "code",
   "execution_count": 2,
   "metadata": {
    "collapsed": false
   },
   "outputs": [
    {
     "name": "stderr",
     "output_type": "stream",
     "text": [
      "C:\\ProgramData\\Anaconda3\\lib\\site-packages\\gensim\\utils.py:1212: UserWarning: detected Windows; aliasing chunkize to chunkize_serial\n",
      "  warnings.warn(\"detected Windows; aliasing chunkize to chunkize_serial\")\n",
      "C:\\ProgramData\\Anaconda3\\lib\\site-packages\\torchvision\\models\\squeezenet.py:94: UserWarning: nn.init.kaiming_uniform is now deprecated in favor of nn.init.kaiming_uniform_.\n",
      "  init.kaiming_uniform(m.weight.data)\n",
      "C:\\ProgramData\\Anaconda3\\lib\\site-packages\\torchvision\\models\\squeezenet.py:92: UserWarning: nn.init.normal is now deprecated in favor of nn.init.normal_.\n",
      "  init.normal(m.weight.data, mean=0.0, std=0.01)\n"
     ]
    }
   ],
   "source": [
    "# Import modules\n",
    "from christmais import (get_fasttext_pretrained, Artist)\n",
    "from christmais import Predictor\n",
    "from christmais import Trainer\n",
    "import numpy as np"
   ]
  },
  {
   "cell_type": "markdown",
   "metadata": {},
   "source": [
    "## FastText: Get a word embedding from text\n",
    "\n",
    "The first step in this process is to get a word embedding from a given string input. For this we use gensim's FastText algorithm to do just that. The loaded `FastText` model was pretrained from the `brown` corpus. It turns out that for our purposes, training on this corpus is enough.\n",
    "\n",
    "First, it checks if you have a trained `brown_fasttext.model` model in your `/tmp` directory. If there's none, then it will automatically train and save one for you!"
   ]
  },
  {
   "cell_type": "code",
   "execution_count": 3,
   "metadata": {
    "collapsed": false
   },
   "outputs": [
    {
     "name": "stderr",
     "output_type": "stream",
     "text": [
      "INFO:gensim.utils:loading FastTextWrapper object from C:\\Users\\ISSATI~1\\AppData\\Local\\Temp\\brown_fasttext.model\n",
      "INFO:gensim.utils:loading wv recursively from C:\\Users\\ISSATI~1\\AppData\\Local\\Temp\\brown_fasttext.model.wv.* with mmap=None\n",
      "INFO:gensim.utils:setting ignored attribute vectors_norm to None\n",
      "INFO:gensim.utils:setting ignored attribute vectors_vocab_norm to None\n",
      "INFO:gensim.utils:setting ignored attribute vectors_ngrams_norm to None\n",
      "INFO:gensim.utils:setting ignored attribute buckets_word to None\n",
      "INFO:gensim.utils:loading vocabulary recursively from C:\\Users\\ISSATI~1\\AppData\\Local\\Temp\\brown_fasttext.model.vocabulary.* with mmap=None\n",
      "INFO:gensim.utils:loading trainables recursively from C:\\Users\\ISSATI~1\\AppData\\Local\\Temp\\brown_fasttext.model.trainables.* with mmap=None\n",
      "INFO:gensim.utils:loaded C:\\Users\\ISSATI~1\\AppData\\Local\\Temp\\brown_fasttext.model\n"
     ]
    }
   ],
   "source": [
    "model = get_fasttext_pretrained(load=True)"
   ]
  },
  {
   "cell_type": "markdown",
   "metadata": {},
   "source": [
    "In case you found the `brown` dataset insufficient and you wish to train on your own data, then worry not! We provided a `FastTextWrapper` so that you can work on your own data. Simply create an instance of the `FastTextWrapper` by providing your own sentences and additional keyword arguments as with gensim's [FastText](https://radimrehurek.com/gensim/models/fasttext.html#gensim.models.fasttext.FastText):\n",
    "\n",
    "```python\n",
    "from christmais.models import FastTextWrapper\n",
    "#  Assuming you already have your own corpus loaded\n",
    "model = FastTextWrapper(sentences=my_own_corpus, **kwargs)\n",
    "```"
   ]
  },
  {
   "cell_type": "markdown",
   "metadata": {},
   "source": [
    "Once we have our trained model, we can then create a word embedding out of any input string:"
   ]
  },
  {
   "cell_type": "code",
   "execution_count": 4,
   "metadata": {
    "collapsed": false
   },
   "outputs": [
    {
     "name": "stdout",
     "output_type": "stream",
     "text": [
      "[0.52606106 0.5434932  0.01999998 0.78087074 0.97999996 0.6864882\n",
      " 0.04613805 0.9232513 ]\n"
     ]
    }
   ],
   "source": [
    "embedding = model.transform(\"Thinking Machines Data Science\")\n",
    "print(embedding)"
   ]
  },
  {
   "cell_type": "markdown",
   "metadata": {},
   "source": [
    "The embedding is represented as a vector of size 8, since this is the same configuration used in the original perception engine. For the next step, we will then use this embedding as a \"seed\" for our drawing system."
   ]
  },
  {
   "cell_type": "markdown",
   "metadata": {},
   "source": [
    "## Artist: Draw an image using the word embedding\n",
    "\n",
    "In this step, we call our drawing system, aptly named `Artist`, to create an abstract image using the embedding as a seed. Here, we took inspiration from Tom White's [dopes repository](https://github.com/dribnet/dopes)."
   ]
  },
  {
   "cell_type": "code",
   "execution_count": 5,
   "metadata": {
    "collapsed": true
   },
   "outputs": [],
   "source": [
    "artist = Artist(embedding, dims=(224, 224))"
   ]
  },
  {
   "cell_type": "markdown",
   "metadata": {},
   "source": [
    "Once we have an artist, we can now generate some abstract art!"
   ]
  },
  {
   "cell_type": "code",
   "execution_count": 6,
   "metadata": {
    "collapsed": false
   },
   "outputs": [
    {
     "data": {
      "image/png": "[encoded data removed]",
      "text/plain": [
       "<PIL.Image.Image image mode=RGB size=224x224 at 0x22810BC9400>"
      ]
     },
     "execution_count": 6,
     "metadata": {},
     "output_type": "execute_result"
    }
   ],
   "source": [
    "artist.draw()"
   ]
  },
  {
   "cell_type": "markdown",
   "metadata": {},
   "source": [
    "Note that each instatiation of the `Artist` class determines the color scheme of the resulting image. The positions of the lines and circles change whenever the `draw()` method is called. So if you want different palettes, instantiate multiple `Artist`s. Each of them can `draw()` different images whenever called."
   ]
  },
  {
   "cell_type": "markdown",
   "metadata": {},
   "source": [
    "### A note on genes\n",
    "\n",
    "For our optimization routine, we exposed the positions of the circles and lines in an attribute called \"gene.\" Each image has its own gene, and you can always create the same image given same genes. To get the gene value of the **last drawn image**, just call `get_gene()`"
   ]
  },
  {
   "cell_type": "code",
   "execution_count": 7,
   "metadata": {
    "collapsed": false
   },
   "outputs": [
    {
     "name": "stdout",
     "output_type": "stream",
     "text": [
      "[[178 152  28 113 101 178  99 188  16  99  16 159 191 160  99 114 114 172\n",
      "   25  12   8 107 137 111 137   4]\n",
      " [102 102 102  79 175 175  80  80 101 101  80 101 100 183  14   9 110  79\n",
      "   17   8   5 214 134 214   5   1]\n",
      " [180 109 103  48  80 181  47  30  47  30  47 108 190 108  69  24 190 206\n",
      "   40  20  13 126 124  35 136   8]\n",
      " [193 163 193 111 127 127  62  12 111 195 111  62  12 165  47  61  61  19\n",
      "    6   3   2  91  87 215 215   4]\n",
      " [152  29 132  24  24  73  14  19  14 156  68 156 199  11  17  93 158 135\n",
      "   21  10   7 111   8 111  99   4]\n",
      " [  9   9 213   9   9   9 215   6   6 143 143  18   5   5 162  17   5   5\n",
      "    5   2   1 164 216 215 140   3]\n",
      " [200 105 200  93  56 116  83 209  50 209 116 104  90 104  90 168 168 213\n",
      "   20  10   6 178 218 144   8   1]\n",
      " [145 106 103 145 131 103 156 199 104 156 199 156 206 104 131 104 206 140\n",
      "   43  21  14  28  54  65  70   3]\n",
      " [155 155  39 155  39 184  21 165 119 119 165 202 168 174 207  16 149 207\n",
      "   36  18  12  26  75   8  26   4]\n",
      " [129  80 176 176 125 129 184 134 129  42 194 184 135  34 201 190  34  69\n",
      "   40  20  13  79  71  76  71   7]]\n"
     ]
    }
   ],
   "source": [
    "gene = artist.get_gene()\n",
    "print(gene)"
   ]
  },
  {
   "cell_type": "markdown",
   "metadata": {},
   "source": [
    "As you can see, the `gene` is simply a matrix of shape `(density, 26)`. Again, we can re-draw the same image once we know its gene. We do that by calling `draw_from_gene()`"
   ]
  },
  {
   "cell_type": "code",
   "execution_count": 8,
   "metadata": {
    "collapsed": false
   },
   "outputs": [
    {
     "data": {
      "image/png": "[encoded data removed]",
      "text/plain": [
       "<PIL.Image.Image image mode=RGB size=224x224 at 0x2280AD08390>"
      ]
     },
     "execution_count": 8,
     "metadata": {},
     "output_type": "execute_result"
    }
   ],
   "source": [
    "artist.draw_from_gene(gene)"
   ]
  },
  {
   "cell_type": "markdown",
   "metadata": {},
   "source": [
    "## Predictor: Predict the abstract art's nearest ImageNet class\n",
    "\n",
    "Once we have an image, what we can do next is pass it to a classifier, in this case Resnet-152, to estimate how near it is to our target ImageNet class. The `Predictor` class gives us a handy way to abstract that. By supplying a target ImageNet class, we can call the `predict()` method and it will give us the confidence/score on how well it predicted our target class."
   ]
  },
  {
   "cell_type": "code",
   "execution_count": 15,
   "metadata": {
    "collapsed": false
   },
   "outputs": [
    {
     "name": "stderr",
     "output_type": "stream",
     "text": [
      "INFO:root:Loading labels file C:\\Users\\ISSATI~1\\AppData\\Local\\Temp\\labels.json\n"
     ]
    }
   ],
   "source": [
    "p = Predictor()"
   ]
  },
  {
   "cell_type": "code",
   "execution_count": 10,
   "metadata": {
    "collapsed": false
   },
   "outputs": [
    {
     "name": "stderr",
     "output_type": "stream",
     "text": [
      "..\\christmais\\predictor.py:233: UserWarning: Implicit dimension choice for softmax has been deprecated. Change the call to include dim=X as an argument.\n",
      "  probs = sm(fc_out)\n"
     ]
    }
   ],
   "source": [
    "img = artist.draw_from_gene(gene) # We'll use the same image we got earlier\n",
    "scores, results = p.predict(X=img, \n",
    "                            target=\"iron\") # We'll see how well it predicts the class \"iron\""
   ]
  },
  {
   "cell_type": "code",
   "execution_count": 11,
   "metadata": {
    "collapsed": false
   },
   "outputs": [
    {
     "name": "stdout",
     "output_type": "stream",
     "text": [
      "The score of predicting `iron` is 0.00023460743250325322, not that really high\n"
     ]
    }
   ],
   "source": [
    "print('The score of predicting `iron` is {}, not that really high'.format(scores))"
   ]
  },
  {
   "cell_type": "markdown",
   "metadata": {},
   "source": [
    "In addition, we can also check the nearest classes it predicted. Here, we can call the method `plot_results` while supplying the `results` dictionary from `predict`"
   ]
  },
  {
   "cell_type": "code",
   "execution_count": 12,
   "metadata": {
    "collapsed": false
   },
   "outputs": [
    {
     "data": {
      "image/png": "[encoded data removed]",
      "text/plain": [
       "<matplotlib.figure.Figure at 0x2280ae1ec18>"
      ]
     },
     "metadata": {},
     "output_type": "display_data"
    }
   ],
   "source": [
    "p.plot_results(results)"
   ]
  },
  {
   "cell_type": "markdown",
   "metadata": {},
   "source": [
    "## Trainer: Optimize your images to look like the target class\n",
    "\n",
    "As we've seen the score for our target class is rather low. What we will do next is optimize the images generated by our `Artist`s using an optimization algorithm. For `christmais`, we're using a genetic algorithm. Now, we will be introducing the `Trainer` class that integrates the three components (`FastText`, `Artist`, `Predictor`) together in a nice API."
   ]
  },
  {
   "cell_type": "code",
   "execution_count": 3,
   "metadata": {
    "collapsed": false
   },
   "outputs": [
    {
     "name": "stderr",
     "output_type": "stream",
     "text": [
      "INFO:gensim.utils:loading FastTextWrapper object from C:\\Users\\ISSATI~1\\AppData\\Local\\Temp\\brown_fasttext.model\n",
      "INFO:gensim.utils:loading wv recursively from C:\\Users\\ISSATI~1\\AppData\\Local\\Temp\\brown_fasttext.model.wv.* with mmap=None\n",
      "INFO:gensim.utils:setting ignored attribute vectors_norm to None\n",
      "INFO:gensim.utils:setting ignored attribute vectors_vocab_norm to None\n",
      "INFO:gensim.utils:setting ignored attribute vectors_ngrams_norm to None\n",
      "INFO:gensim.utils:setting ignored attribute buckets_word to None\n",
      "INFO:gensim.utils:loading vocabulary recursively from C:\\Users\\ISSATI~1\\AppData\\Local\\Temp\\brown_fasttext.model.vocabulary.* with mmap=None\n",
      "INFO:gensim.utils:loading trainables recursively from C:\\Users\\ISSATI~1\\AppData\\Local\\Temp\\brown_fasttext.model.trainables.* with mmap=None\n",
      "INFO:gensim.utils:loaded C:\\Users\\ISSATI~1\\AppData\\Local\\Temp\\brown_fasttext.model\n",
      "INFO:christmais.trainer:Built FastText model\n",
      "INFO:christmais.trainer:Embedding created for `Thinking Machines Data Science`\n",
      "INFO:christmais.trainer:Created 100 artists\n",
      "INFO:root:Loading labels file C:\\Users\\ISSATI~1\\AppData\\Local\\Temp\\labels.json\n",
      "INFO:christmais.trainer:Initialized Predictor with dict_keys(['resnet152'])\n"
     ]
    }
   ],
   "source": [
    "string = 'Thinking Machines Data Science' # string to get an embedding from\n",
    "t = Trainer(string)"
   ]
  },
  {
   "cell_type": "markdown",
   "metadata": {},
   "source": [
    "Given this, we can now call the `train()` method. It returns the best individual that we can call to draw"
   ]
  },
  {
   "cell_type": "code",
   "execution_count": null,
   "metadata": {
    "collapsed": true
   },
   "outputs": [],
   "source": [
    "best_gene = t.train(target='cellular telephone', steps=10)"
   ]
  },
  {
   "cell_type": "markdown",
   "metadata": {},
   "source": [
    "There are a lot of options available inside `train`. I'd recommend that you call `help(t.train)` to see all available parameters. One thing that you might use is the `outdir` parameter. If supplied with a directory name, it draws the resulting image *per generation* in that directory. \n",
    "\n",
    "Now, let's examine `best_gene`:"
   ]
  },
  {
   "cell_type": "code",
   "execution_count": 15,
   "metadata": {
    "collapsed": false
   },
   "outputs": [
    {
     "data": {
      "image/png": "[encoded data removed]",
      "text/plain": [
       "<PIL.Image.Image image mode=RGB size=224x224 at 0x2280ACC2748>"
      ]
     },
     "execution_count": 15,
     "metadata": {},
     "output_type": "execute_result"
    }
   ],
   "source": [
    "best_gene.artist.draw()"
   ]
  },
  {
   "cell_type": "markdown",
   "metadata": {},
   "source": [
    "### Setting the colorscheme beforehand\n",
    "\n",
    "We can play with the optimization parameters and set the colorschme beforehand. Here we can call `t.set_colors` and pass it a dictionary of colors with keys: `background`, `layer1`, `layer2`, `layer3`, and `lines`."
   ]
  },
  {
   "cell_type": "code",
   "execution_count": 4,
   "metadata": {
    "collapsed": false
   },
   "outputs": [
    {
     "name": "stderr",
     "output_type": "stream",
     "text": [
      "INFO:gensim.utils:loading FastTextWrapper object from C:\\Users\\ISSATI~1\\AppData\\Local\\Temp\\brown_fasttext.model\n",
      "INFO:gensim.utils:loading wv recursively from C:\\Users\\ISSATI~1\\AppData\\Local\\Temp\\brown_fasttext.model.wv.* with mmap=None\n",
      "INFO:gensim.utils:setting ignored attribute vectors_norm to None\n",
      "INFO:gensim.utils:setting ignored attribute vectors_vocab_norm to None\n",
      "INFO:gensim.utils:setting ignored attribute vectors_ngrams_norm to None\n",
      "INFO:gensim.utils:setting ignored attribute buckets_word to None\n",
      "INFO:gensim.utils:loading vocabulary recursively from C:\\Users\\ISSATI~1\\AppData\\Local\\Temp\\brown_fasttext.model.vocabulary.* with mmap=None\n",
      "INFO:gensim.utils:loading trainables recursively from C:\\Users\\ISSATI~1\\AppData\\Local\\Temp\\brown_fasttext.model.trainables.* with mmap=None\n",
      "INFO:gensim.utils:loaded C:\\Users\\ISSATI~1\\AppData\\Local\\Temp\\brown_fasttext.model\n",
      "INFO:christmais.trainer:Built FastText model\n",
      "INFO:christmais.trainer:Embedding created for `Thinking Machines Data Science`\n",
      "INFO:christmais.trainer:Created 100 artists\n",
      "INFO:root:Loading labels file C:\\Users\\ISSATI~1\\AppData\\Local\\Temp\\labels.json\n",
      "INFO:christmais.trainer:Initialized Predictor with dict_keys(['resnet152'])\n",
      "INFO:christmais.trainer:Setting colorscheme for artists\n"
     ]
    }
   ],
   "source": [
    "string = 'Thinking Machines Data Science' # string to get an embedding from\n",
    "t1 = Trainer(string) # let's make a new trainer\n",
    "\n",
    "# Set colorscheme\n",
    "new_colorscheme = {\n",
    "    'background' : (255, 255, 255, 255),\n",
    "    'layer1' : (232,232,232, 255),\n",
    "    'layer2' : (232,232,232, 255),\n",
    "    'layer3' : (232,232,232, 255),\n",
    "    'lines'  : (255, 0, 0, 255)\n",
    "}\n",
    "t1.set_colors(new_colorscheme)"
   ]
  },
  {
   "cell_type": "code",
   "execution_count": null,
   "metadata": {
    "collapsed": true
   },
   "outputs": [],
   "source": [
    "best_gene1 = t1.train(target='shopping basket', steps=50, outdir='shopping_basket/')"
   ]
  },
  {
   "cell_type": "code",
   "execution_count": 18,
   "metadata": {
    "collapsed": false
   },
   "outputs": [
    {
     "name": "stderr",
     "output_type": "stream",
     "text": [
      "..\\christmais\\predictor.py:233: UserWarning: Implicit dimension choice for softmax has been deprecated. Change the call to include dim=X as an argument.\n",
      "  probs = sm(fc_out)\n"
     ]
    },
    {
     "data": {
      "image/png": "[encoded data removed]",
      "text/plain": [
       "<matplotlib.figure.Figure at 0x22019bfa0b8>"
      ]
     },
     "metadata": {},
     "output_type": "display_data"
    }
   ],
   "source": [
    "img = best_gene1.artist.draw_from_gene(best_gene1.gene) \n",
    "scores, results = p.predict(X=img, target=\"shopping basket\") \n",
    "p.plot_results(results)"
   ]
  },
  {
   "cell_type": "markdown",
   "metadata": {},
   "source": [
    "## Cellphone"
   ]
  },
  {
   "cell_type": "code",
   "execution_count": 4,
   "metadata": {
    "collapsed": false
   },
   "outputs": [
    {
     "name": "stderr",
     "output_type": "stream",
     "text": [
      "INFO:gensim.utils:loading FastTextWrapper object from C:\\Users\\ISSATI~1\\AppData\\Local\\Temp\\brown_fasttext.model\n",
      "INFO:gensim.utils:loading wv recursively from C:\\Users\\ISSATI~1\\AppData\\Local\\Temp\\brown_fasttext.model.wv.* with mmap=None\n",
      "INFO:gensim.utils:setting ignored attribute vectors_norm to None\n",
      "INFO:gensim.utils:setting ignored attribute vectors_vocab_norm to None\n",
      "INFO:gensim.utils:setting ignored attribute vectors_ngrams_norm to None\n",
      "INFO:gensim.utils:setting ignored attribute buckets_word to None\n",
      "INFO:gensim.utils:loading vocabulary recursively from C:\\Users\\ISSATI~1\\AppData\\Local\\Temp\\brown_fasttext.model.vocabulary.* with mmap=None\n",
      "INFO:gensim.utils:loading trainables recursively from C:\\Users\\ISSATI~1\\AppData\\Local\\Temp\\brown_fasttext.model.trainables.* with mmap=None\n",
      "INFO:gensim.utils:loaded C:\\Users\\ISSATI~1\\AppData\\Local\\Temp\\brown_fasttext.model\n",
      "INFO:christmais.trainer:Built FastText model\n",
      "INFO:christmais.trainer:Embedding created for `Thinking Machines Data Science`\n",
      "INFO:christmais.trainer:Created 500 artists\n",
      "INFO:root:Loading labels file C:\\Users\\ISSATI~1\\AppData\\Local\\Temp\\labels.json\n",
      "INFO:christmais.trainer:Initialized Predictor with dict_keys(['resnet152'])\n",
      "INFO:christmais.trainer:Setting colorscheme for artists\n"
     ]
    }
   ],
   "source": [
    "string = 'Thinking Machines Data Science' # string to get an embedding from\n",
    "t1 = Trainer(string) # let's make a new trainer\n",
    "\n",
    "# Set colorscheme\n",
    "new_colorscheme = {\n",
    "    'background' : (255, 255, 255, 255),\n",
    "    'layer1' : (192,192,192, 255),\n",
    "    'layer2' : (192,192,192, 255),\n",
    "    'layer3' : (192,192,192, 255),\n",
    "    'lines'  : (0, 0, 0, 255)\n",
    "}\n",
    "t1.set_colors(new_colorscheme)"
   ]
  },
  {
   "cell_type": "code",
   "execution_count": null,
   "metadata": {
    "collapsed": true
   },
   "outputs": [],
   "source": [
    "best_gene1 = t1.train(target='cellular telephone', steps=100, outdir='cellular_telephone/')"
   ]
  }
 ],
 "metadata": {
  "kernelspec": {
   "display_name": "Python 3",
   "language": "python",
   "name": "python3"
  },
  "language_info": {
   "codemirror_mode": {
    "name": "ipython",
    "version": 3
   },
   "file_extension": ".py",
   "mimetype": "text/x-python",
   "name": "python",
   "nbconvert_exporter": "python",
   "pygments_lexer": "ipython3",
   "version": "3.6.7"
  }
 },
 "nbformat": 4,
 "nbformat_minor": 2
}
