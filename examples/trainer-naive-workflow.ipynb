{
 "cells": [
  {
   "cell_type": "code",
   "execution_count": 1,
   "metadata": {
    "collapsed": true
   },
   "outputs": [],
   "source": [
    "import sys\n",
    "sys.path.append('../')\n",
    "\n",
    "%load_ext autoreload\n",
    "%autoreload 2"
   ]
  },
  {
   "cell_type": "code",
   "execution_count": 2,
   "metadata": {
    "collapsed": false
   },
   "outputs": [
    {
     "name": "stderr",
     "output_type": "stream",
     "text": [
      "/home/ljvm/Documents/ThinkingMachines/christmAIs/venv/lib/python3.6/site-packages/torchvision/models/squeezenet.py:94: UserWarning: nn.init.kaiming_uniform is now deprecated in favor of nn.init.kaiming_uniform_.\n",
      "  init.kaiming_uniform(m.weight.data)\n",
      "/home/ljvm/Documents/ThinkingMachines/christmAIs/venv/lib/python3.6/site-packages/torchvision/models/squeezenet.py:92: UserWarning: nn.init.normal is now deprecated in favor of nn.init.normal_.\n",
      "  init.normal(m.weight.data, mean=0.0, std=0.01)\n"
     ]
    }
   ],
   "source": [
    "from christmais import FastTextWrapper\n",
    "from nltk.corpus import brown # or any other corpus\n",
    "from christmais import (get_fasttext_pretrained, Artist)\n",
    "from christmais import Predictor\n",
    "from christmais.trainer import Trainer\n",
    "import numpy as np"
   ]
  },
  {
   "cell_type": "code",
   "execution_count": 3,
   "metadata": {},
   "outputs": [],
   "source": [
    "import matplotlib.pyplot as plt"
   ]
  },
  {
   "cell_type": "code",
   "execution_count": 4,
   "metadata": {},
   "outputs": [
    {
     "name": "stderr",
     "output_type": "stream",
     "text": [
      "INFO:gensim.utils:loading FastTextWrapper object from /tmp/brown_fasttext.model\n",
      "INFO:gensim.utils:loading wv recursively from /tmp/brown_fasttext.model.wv.* with mmap=None\n",
      "INFO:gensim.utils:setting ignored attribute vectors_norm to None\n",
      "INFO:gensim.utils:setting ignored attribute vectors_vocab_norm to None\n",
      "INFO:gensim.utils:setting ignored attribute vectors_ngrams_norm to None\n",
      "INFO:gensim.utils:setting ignored attribute buckets_word to None\n",
      "INFO:gensim.utils:loading vocabulary recursively from /tmp/brown_fasttext.model.vocabulary.* with mmap=None\n",
      "INFO:gensim.utils:loading trainables recursively from /tmp/brown_fasttext.model.trainables.* with mmap=None\n",
      "INFO:gensim.utils:loaded /tmp/brown_fasttext.model\n",
      "INFO:christmais.trainer:Built FastText model\n",
      "INFO:christmais.trainer:Embedding created for `Thinking Machines Data Science`\n",
      "INFO:christmais.trainer:Created 30 artists\n",
      "INFO:root:Loading labels file /tmp/labels.json\n",
      "INFO:christmais.trainer:Initialized Predictor with dict_keys(['resnet152'])\n"
     ]
    }
   ],
   "source": [
    "t = Trainer('Thinking Machines Data Science')"
   ]
  },
  {
   "cell_type": "code",
   "execution_count": 5,
   "metadata": {},
   "outputs": [],
   "source": [
    "imgs = [a.draw() for a in t.artists]"
   ]
  },
  {
   "cell_type": "code",
   "execution_count": null,
   "metadata": {},
   "outputs": [],
   "source": [
    "%%time\n",
    "fitness = t._fitness_fcn(imgs, target='iron')"
   ]
  },
  {
   "cell_type": "code",
   "execution_count": null,
   "metadata": {},
   "outputs": [],
   "source": []
  }
 ],
 "metadata": {
  "kernelspec": {
   "display_name": "christmAIs",
   "language": "python",
   "name": "christmais"
  },
  "language_info": {
   "codemirror_mode": {
    "name": "ipython",
    "version": 3
   },
   "file_extension": ".py",
   "mimetype": "text/x-python",
   "name": "python",
   "nbconvert_exporter": "python",
   "pygments_lexer": "ipython3",
   "version": "3.6.5"
  }
 },
 "nbformat": 4,
 "nbformat_minor": 2
}
