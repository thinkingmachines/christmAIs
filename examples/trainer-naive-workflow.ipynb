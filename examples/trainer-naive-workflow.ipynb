{
 "cells": [
  {
   "cell_type": "code",
   "execution_count": 1,
   "metadata": {
    "collapsed": true
   },
   "outputs": [],
   "source": [
    "import sys\n",
    "sys.path.append('../')\n",
    "\n",
    "%load_ext autoreload\n",
    "%autoreload 2"
   ]
  },
  {
   "cell_type": "code",
   "execution_count": 2,
   "metadata": {
    "collapsed": false
   },
   "outputs": [
    {
     "name": "stderr",
     "output_type": "stream",
     "text": [
      "/home/ljvm/Documents/ThinkingMachines/christmAIs/venv/lib/python3.6/site-packages/torchvision/models/squeezenet.py:94: UserWarning: nn.init.kaiming_uniform is now deprecated in favor of nn.init.kaiming_uniform_.\n",
      "  init.kaiming_uniform(m.weight.data)\n",
      "/home/ljvm/Documents/ThinkingMachines/christmAIs/venv/lib/python3.6/site-packages/torchvision/models/squeezenet.py:92: UserWarning: nn.init.normal is now deprecated in favor of nn.init.normal_.\n",
      "  init.normal(m.weight.data, mean=0.0, std=0.01)\n"
     ]
    }
   ],
   "source": [
    "from christmais import FastTextWrapper\n",
    "from nltk.corpus import brown # or any other corpus\n",
    "from christmais import (get_fasttext_pretrained, Artist)\n",
    "from christmais import Predictor\n",
    "from christmais.trainer import Trainer\n",
    "import numpy as np"
   ]
  },
  {
   "cell_type": "code",
   "execution_count": 3,
   "metadata": {},
   "outputs": [],
   "source": [
    "import matplotlib.pyplot as plt"
   ]
  },
  {
   "cell_type": "code",
   "execution_count": 4,
   "metadata": {},
   "outputs": [
    {
     "name": "stderr",
     "output_type": "stream",
     "text": [
      "INFO:gensim.utils:loading FastTextWrapper object from /tmp/brown_fasttext.model\n",
      "INFO:gensim.utils:loading wv recursively from /tmp/brown_fasttext.model.wv.* with mmap=None\n",
      "INFO:gensim.utils:setting ignored attribute vectors_norm to None\n",
      "INFO:gensim.utils:setting ignored attribute vectors_vocab_norm to None\n",
      "INFO:gensim.utils:setting ignored attribute vectors_ngrams_norm to None\n",
      "INFO:gensim.utils:setting ignored attribute buckets_word to None\n",
      "INFO:gensim.utils:loading vocabulary recursively from /tmp/brown_fasttext.model.vocabulary.* with mmap=None\n",
      "INFO:gensim.utils:loading trainables recursively from /tmp/brown_fasttext.model.trainables.* with mmap=None\n",
      "INFO:gensim.utils:loaded /tmp/brown_fasttext.model\n",
      "INFO:christmais.trainer:Built FastText model\n",
      "INFO:christmais.trainer:Embedding created for `Thinking Machines Data Science`\n",
      "INFO:christmais.trainer:Created 30 artists\n",
      "INFO:root:Loading labels file /tmp/labels.json\n",
      "INFO:christmais.trainer:Initialized Predictor with dict_keys(['resnet152'])\n"
     ]
    }
   ],
   "source": [
    "t = Trainer('Thinking Machines Data Science')"
   ]
  },
  {
   "cell_type": "code",
   "execution_count": 5,
   "metadata": {},
   "outputs": [
    {
     "name": "stdout",
     "output_type": "stream",
     "text": [
      "Help on Trainer in module christmais.trainer object:\n",
      "\n",
      "class Trainer(builtins.object)\n",
      " |  Trainer class for integration\n",
      " |  \n",
      " |  Methods defined here:\n",
      " |  \n",
      " |  __init__(self, X, population=30, dims=(224, 224), seed=42, predictor_kwargs={}, embedding_kwargs={})\n",
      " |      Initialize the class\n",
      " |      \n",
      " |      Parameters\n",
      " |      ----------\n",
      " |      X : str\n",
      " |          Input sentence to transform into\n",
      " |      population : int (default is 30)\n",
      " |          Number of artists created\n",
      " |      dims : tuple of size 2\n",
      " |          Dimensions of the resulting image\n",
      " |      seed : int (default is 42)\n",
      " |          Sets the random seed\n",
      " |      predictor_kwargs : dict\n",
      " |          Arguments for Predictor() class\n",
      " |      embedding_kwargs : dict\n",
      " |          Arguments for FastTextWrapper() class\n",
      " |  \n",
      " |  reset(self)\n",
      " |      Generate a new set of artists, predictor, and model\n",
      " |  \n",
      " |  train(self, target, mutpb=0.3, indpb=0.5, k=2, tournsize=4, steps=100)\n",
      " |      Train and generate images using a genetic algorithm\n",
      " |      \n",
      " |      Parameters\n",
      " |      ----------\n",
      " |      target : str\n",
      " |          The target ImageNet class label.\n",
      " |      mutpb : float (default is 0.3)\n",
      " |          Mutation probability\n",
      " |      indpb : float (default is 0.5)\n",
      " |          Independent probability for each attribute to be exchanged/shuffled\n",
      " |          during uniform crossover and/or mutation.\n",
      " |      k : int (default is 2)\n",
      " |          Number of individuals to select during tournament selection\n",
      " |      tournsize : int (default is 4)\n",
      " |          Number of individuals participating in each tournament\n",
      " |      steps : int (default is 100)\n",
      " |          The number of steps to run the optimization algorithm\n",
      " |      \n",
      " |      Returns\n",
      " |      -------\n",
      " |      christmais.trainer.Individual\n",
      " |          The best child during the optimization run.\n",
      " |  \n",
      " |  ----------------------------------------------------------------------\n",
      " |  Data descriptors defined here:\n",
      " |  \n",
      " |  __dict__\n",
      " |      dictionary for instance variables (if defined)\n",
      " |  \n",
      " |  __weakref__\n",
      " |      list of weak references to the object (if defined)\n",
      "\n"
     ]
    }
   ],
   "source": [
    "help(t)"
   ]
  },
  {
   "cell_type": "code",
   "execution_count": 6,
   "metadata": {},
   "outputs": [
    {
     "name": "stderr",
     "output_type": "stream",
     "text": [
      "INFO:christmais.trainer:Initializing population and histories...\n",
      "../christmais/predictor.py:233: UserWarning: Implicit dimension choice for softmax has been deprecated. Change the call to include dim=X as an argument.\n",
      "  probs = sm(fc_out)\n",
      "GEN: 100%|████████████████████████████████| 5/5 [01:37<00:00, 19.46s/gen, best=0.00268, avg=0.00163]\n"
     ]
    },
    {
     "data": {
      "text/plain": [
       "<christmais.trainer.Individual at 0x7fc37a655b38>"
      ]
     },
     "execution_count": 6,
     "metadata": {},
     "output_type": "execute_result"
    }
   ],
   "source": [
    "best = t.train(target='iron', steps=5)"
   ]
  },
  {
   "cell_type": "code",
   "execution_count": null,
   "metadata": {},
   "outputs": [],
   "source": []
  }
 ],
 "metadata": {
  "kernelspec": {
   "display_name": "christmAIs",
   "language": "python",
   "name": "christmais"
  },
  "language_info": {
   "codemirror_mode": {
    "name": "ipython",
    "version": 3
   },
   "file_extension": ".py",
   "mimetype": "text/x-python",
   "name": "python",
   "nbconvert_exporter": "python",
   "pygments_lexer": "ipython3",
   "version": "3.6.5"
  }
 },
 "nbformat": 4,
 "nbformat_minor": 2
}
