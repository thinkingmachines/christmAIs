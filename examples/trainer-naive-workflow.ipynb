{
 "cells": [
  {
   "cell_type": "code",
   "execution_count": 1,
   "metadata": {
    "collapsed": true
   },
   "outputs": [],
   "source": [
    "import sys\n",
    "sys.path.append('../')\n",
    "\n",
    "%load_ext autoreload\n",
    "%autoreload 2"
   ]
  },
  {
   "cell_type": "code",
   "execution_count": 2,
   "metadata": {
    "collapsed": false
   },
   "outputs": [
    {
     "name": "stderr",
     "output_type": "stream",
     "text": [
      "/home/ljvm/Documents/ThinkingMachines/christmAIs/venv/lib/python3.6/site-packages/torchvision/models/squeezenet.py:94: UserWarning: nn.init.kaiming_uniform is now deprecated in favor of nn.init.kaiming_uniform_.\n",
      "  init.kaiming_uniform(m.weight.data)\n",
      "/home/ljvm/Documents/ThinkingMachines/christmAIs/venv/lib/python3.6/site-packages/torchvision/models/squeezenet.py:92: UserWarning: nn.init.normal is now deprecated in favor of nn.init.normal_.\n",
      "  init.normal(m.weight.data, mean=0.0, std=0.01)\n"
     ]
    }
   ],
   "source": [
    "from christmais import FastTextWrapper\n",
    "from nltk.corpus import brown # or any other corpus\n",
    "from christmais import (get_fasttext_pretrained, Artist)\n",
    "from christmais import Predictor\n",
    "import numpy as np"
   ]
  },
  {
   "cell_type": "code",
   "execution_count": 13,
   "metadata": {},
   "outputs": [],
   "source": [
    "import matplotlib.pyplot as plt"
   ]
  },
  {
   "cell_type": "code",
   "execution_count": 4,
   "metadata": {
    "collapsed": false
   },
   "outputs": [
    {
     "name": "stderr",
     "output_type": "stream",
     "text": [
      "INFO:gensim.utils:loading FastTextWrapper object from /tmp/brown_fasttext.model\n",
      "INFO:gensim.utils:loading wv recursively from /tmp/brown_fasttext.model.wv.* with mmap=None\n",
      "INFO:gensim.utils:setting ignored attribute vectors_norm to None\n",
      "INFO:gensim.utils:setting ignored attribute vectors_vocab_norm to None\n",
      "INFO:gensim.utils:setting ignored attribute vectors_ngrams_norm to None\n",
      "INFO:gensim.utils:setting ignored attribute buckets_word to None\n",
      "INFO:gensim.utils:loading vocabulary recursively from /tmp/brown_fasttext.model.vocabulary.* with mmap=None\n",
      "INFO:gensim.utils:loading trainables recursively from /tmp/brown_fasttext.model.trainables.* with mmap=None\n",
      "INFO:gensim.utils:loaded /tmp/brown_fasttext.model\n"
     ]
    }
   ],
   "source": [
    "model = get_fasttext_pretrained(load=True)\n",
    "seed = model.transform(\"Thinking Machines Data Science\")\n",
    "artist = Artist(seed, dims=(224, 224)) "
   ]
  },
  {
   "cell_type": "code",
   "execution_count": 5,
   "metadata": {
    "collapsed": false
   },
   "outputs": [],
   "source": [
    "img = artist.draw()"
   ]
  },
  {
   "cell_type": "code",
   "execution_count": 6,
   "metadata": {
    "collapsed": false
   },
   "outputs": [
    {
     "name": "stderr",
     "output_type": "stream",
     "text": [
      "INFO:root:Loading labels file /tmp/labels.json\n"
     ]
    }
   ],
   "source": [
    "p = Predictor()"
   ]
  },
  {
   "cell_type": "code",
   "execution_count": 7,
   "metadata": {
    "collapsed": true
   },
   "outputs": [],
   "source": [
    "artists = [Artist(seed, (224,224)) for i in range(10)]"
   ]
  },
  {
   "cell_type": "code",
   "execution_count": 8,
   "metadata": {},
   "outputs": [
    {
     "data": {
      "text/plain": [
       "[<christmais.drawsys.Artist at 0x7f2214611978>,\n",
       " <christmais.drawsys.Artist at 0x7f2214611940>,\n",
       " <christmais.drawsys.Artist at 0x7f22146116d8>,\n",
       " <christmais.drawsys.Artist at 0x7f22146116a0>,\n",
       " <christmais.drawsys.Artist at 0x7f2214611828>,\n",
       " <christmais.drawsys.Artist at 0x7f22146117b8>,\n",
       " <christmais.drawsys.Artist at 0x7f2214611668>,\n",
       " <christmais.drawsys.Artist at 0x7f22146115f8>,\n",
       " <christmais.drawsys.Artist at 0x7f2214611588>,\n",
       " <christmais.drawsys.Artist at 0x7f2214611518>]"
      ]
     },
     "execution_count": 8,
     "metadata": {},
     "output_type": "execute_result"
    }
   ],
   "source": [
    "artists"
   ]
  },
  {
   "cell_type": "code",
   "execution_count": 23,
   "metadata": {},
   "outputs": [],
   "source": [
    "imgs = [artist.draw() for artist in artists]"
   ]
  },
  {
   "cell_type": "code",
   "execution_count": 32,
   "metadata": {},
   "outputs": [
    {
     "name": "stdout",
     "output_type": "stream",
     "text": [
      "CPU times: user 28.3 s, sys: 822 ms, total: 29.1 s\n",
      "Wall time: 7.27 s\n"
     ]
    }
   ],
   "source": [
    "%%time\n",
    "fitness = [p.predict(img, target='iron')[0] for img in imgs]"
   ]
  },
  {
   "cell_type": "code",
   "execution_count": 33,
   "metadata": {},
   "outputs": [
    {
     "data": {
      "text/plain": [
       "[2.8279344e-05,\n",
       " 0.000134478,\n",
       " 0.00014097159,\n",
       " 0.0002122403,\n",
       " 0.00034300983,\n",
       " 0.00065492786,\n",
       " 0.00019183564,\n",
       " 0.0002717427,\n",
       " 3.7314017e-05,\n",
       " 0.00046107735]"
      ]
     },
     "execution_count": 33,
     "metadata": {},
     "output_type": "execute_result"
    }
   ],
   "source": [
    "fitness"
   ]
  },
  {
   "cell_type": "code",
   "execution_count": null,
   "metadata": {},
   "outputs": [],
   "source": []
  }
 ],
 "metadata": {
  "kernelspec": {
   "display_name": "christmAIs",
   "language": "python",
   "name": "christmais"
  },
  "language_info": {
   "codemirror_mode": {
    "name": "ipython",
    "version": 3
   },
   "file_extension": ".py",
   "mimetype": "text/x-python",
   "name": "python",
   "nbconvert_exporter": "python",
   "pygments_lexer": "ipython3",
   "version": "3.6.5"
  }
 },
 "nbformat": 4,
 "nbformat_minor": 2
}
